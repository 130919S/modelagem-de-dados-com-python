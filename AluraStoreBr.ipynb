{
  "nbformat": 4,
  "nbformat_minor": 0,
  "metadata": {
    "colab": {
      "provenance": [],
      "include_colab_link": true
    },
    "kernelspec": {
      "name": "python3",
      "display_name": "Python 3"
    },
    "language_info": {
      "name": "python"
    }
  },
  "cells": [
    {
      "cell_type": "markdown",
      "metadata": {
        "id": "view-in-github",
        "colab_type": "text"
      },
      "source": [
        "<a href=\"https://colab.research.google.com/github/130919S/modelagem-de-dados-com-python/blob/main/AluraStoreBr.ipynb\" target=\"_parent\"><img src=\"https://colab.research.google.com/assets/colab-badge.svg\" alt=\"Open In Colab\"/></a>"
      ]
    },
    {
      "cell_type": "markdown",
      "source": [
        "### Importação dos dados\n",
        "\n"
      ],
      "metadata": {
        "id": "RhEdWd9YUR6H"
      }
    },
    {
      "cell_type": "code",
      "execution_count": 1,
      "metadata": {
        "colab": {
          "base_uri": "https://localhost:8080/",
          "height": 249
        },
        "id": "T3EvaeQ_INIL",
        "outputId": "7236b610-1a4b-4f2f-cbe4-6986a3b311cc"
      },
      "outputs": [
        {
          "output_type": "execute_result",
          "data": {
            "text/plain": [
              "                 Produto Categoria do Produto    Preço      Frete  \\\n",
              "0     Assistente virtual          eletronicos   219.08   9.249790   \n",
              "1         Mesa de jantar               moveis   256.35  11.234305   \n",
              "2      Jogo de tabuleiro           brinquedos   279.51  21.262681   \n",
              "3            Micro-ondas     eletrodomesticos  1009.99  54.667344   \n",
              "4  Cadeira de escritório               moveis   446.99  26.964689   \n",
              "\n",
              "  Data da Compra        Vendedor Local da compra  Avaliação da compra  \\\n",
              "0     16/01/2021     Pedro Gomes              SP                    4   \n",
              "1     18/05/2022  Beatriz Moraes              RJ                    1   \n",
              "2     15/03/2021      João Souza              DF                    1   \n",
              "3     03/05/2022      João Souza              RS                    4   \n",
              "4     07/11/2020   Larissa Alves              MG                    5   \n",
              "\n",
              "  Tipo de pagamento  Quantidade de parcelas    lat    lon  \n",
              "0    cartao_credito                       8 -22.19 -48.79  \n",
              "1    cartao_credito                       4 -22.25 -42.66  \n",
              "2    cartao_credito                       1 -15.83 -47.86  \n",
              "3            boleto                       1 -30.17 -53.50  \n",
              "4            boleto                       1 -18.10 -44.38  "
            ],
            "text/html": [
              "\n",
              "  <div id=\"df-2aa7eb80-6cc0-4790-9d01-01460f19d73e\" class=\"colab-df-container\">\n",
              "    <div>\n",
              "<style scoped>\n",
              "    .dataframe tbody tr th:only-of-type {\n",
              "        vertical-align: middle;\n",
              "    }\n",
              "\n",
              "    .dataframe tbody tr th {\n",
              "        vertical-align: top;\n",
              "    }\n",
              "\n",
              "    .dataframe thead th {\n",
              "        text-align: right;\n",
              "    }\n",
              "</style>\n",
              "<table border=\"1\" class=\"dataframe\">\n",
              "  <thead>\n",
              "    <tr style=\"text-align: right;\">\n",
              "      <th></th>\n",
              "      <th>Produto</th>\n",
              "      <th>Categoria do Produto</th>\n",
              "      <th>Preço</th>\n",
              "      <th>Frete</th>\n",
              "      <th>Data da Compra</th>\n",
              "      <th>Vendedor</th>\n",
              "      <th>Local da compra</th>\n",
              "      <th>Avaliação da compra</th>\n",
              "      <th>Tipo de pagamento</th>\n",
              "      <th>Quantidade de parcelas</th>\n",
              "      <th>lat</th>\n",
              "      <th>lon</th>\n",
              "    </tr>\n",
              "  </thead>\n",
              "  <tbody>\n",
              "    <tr>\n",
              "      <th>0</th>\n",
              "      <td>Assistente virtual</td>\n",
              "      <td>eletronicos</td>\n",
              "      <td>219.08</td>\n",
              "      <td>9.249790</td>\n",
              "      <td>16/01/2021</td>\n",
              "      <td>Pedro Gomes</td>\n",
              "      <td>SP</td>\n",
              "      <td>4</td>\n",
              "      <td>cartao_credito</td>\n",
              "      <td>8</td>\n",
              "      <td>-22.19</td>\n",
              "      <td>-48.79</td>\n",
              "    </tr>\n",
              "    <tr>\n",
              "      <th>1</th>\n",
              "      <td>Mesa de jantar</td>\n",
              "      <td>moveis</td>\n",
              "      <td>256.35</td>\n",
              "      <td>11.234305</td>\n",
              "      <td>18/05/2022</td>\n",
              "      <td>Beatriz Moraes</td>\n",
              "      <td>RJ</td>\n",
              "      <td>1</td>\n",
              "      <td>cartao_credito</td>\n",
              "      <td>4</td>\n",
              "      <td>-22.25</td>\n",
              "      <td>-42.66</td>\n",
              "    </tr>\n",
              "    <tr>\n",
              "      <th>2</th>\n",
              "      <td>Jogo de tabuleiro</td>\n",
              "      <td>brinquedos</td>\n",
              "      <td>279.51</td>\n",
              "      <td>21.262681</td>\n",
              "      <td>15/03/2021</td>\n",
              "      <td>João Souza</td>\n",
              "      <td>DF</td>\n",
              "      <td>1</td>\n",
              "      <td>cartao_credito</td>\n",
              "      <td>1</td>\n",
              "      <td>-15.83</td>\n",
              "      <td>-47.86</td>\n",
              "    </tr>\n",
              "    <tr>\n",
              "      <th>3</th>\n",
              "      <td>Micro-ondas</td>\n",
              "      <td>eletrodomesticos</td>\n",
              "      <td>1009.99</td>\n",
              "      <td>54.667344</td>\n",
              "      <td>03/05/2022</td>\n",
              "      <td>João Souza</td>\n",
              "      <td>RS</td>\n",
              "      <td>4</td>\n",
              "      <td>boleto</td>\n",
              "      <td>1</td>\n",
              "      <td>-30.17</td>\n",
              "      <td>-53.50</td>\n",
              "    </tr>\n",
              "    <tr>\n",
              "      <th>4</th>\n",
              "      <td>Cadeira de escritório</td>\n",
              "      <td>moveis</td>\n",
              "      <td>446.99</td>\n",
              "      <td>26.964689</td>\n",
              "      <td>07/11/2020</td>\n",
              "      <td>Larissa Alves</td>\n",
              "      <td>MG</td>\n",
              "      <td>5</td>\n",
              "      <td>boleto</td>\n",
              "      <td>1</td>\n",
              "      <td>-18.10</td>\n",
              "      <td>-44.38</td>\n",
              "    </tr>\n",
              "  </tbody>\n",
              "</table>\n",
              "</div>\n",
              "    <div class=\"colab-df-buttons\">\n",
              "\n",
              "  <div class=\"colab-df-container\">\n",
              "    <button class=\"colab-df-convert\" onclick=\"convertToInteractive('df-2aa7eb80-6cc0-4790-9d01-01460f19d73e')\"\n",
              "            title=\"Convert this dataframe to an interactive table.\"\n",
              "            style=\"display:none;\">\n",
              "\n",
              "  <svg xmlns=\"http://www.w3.org/2000/svg\" height=\"24px\" viewBox=\"0 -960 960 960\">\n",
              "    <path d=\"M120-120v-720h720v720H120Zm60-500h600v-160H180v160Zm220 220h160v-160H400v160Zm0 220h160v-160H400v160ZM180-400h160v-160H180v160Zm440 0h160v-160H620v160ZM180-180h160v-160H180v160Zm440 0h160v-160H620v160Z\"/>\n",
              "  </svg>\n",
              "    </button>\n",
              "\n",
              "  <style>\n",
              "    .colab-df-container {\n",
              "      display:flex;\n",
              "      gap: 12px;\n",
              "    }\n",
              "\n",
              "    .colab-df-convert {\n",
              "      background-color: #E8F0FE;\n",
              "      border: none;\n",
              "      border-radius: 50%;\n",
              "      cursor: pointer;\n",
              "      display: none;\n",
              "      fill: #1967D2;\n",
              "      height: 32px;\n",
              "      padding: 0 0 0 0;\n",
              "      width: 32px;\n",
              "    }\n",
              "\n",
              "    .colab-df-convert:hover {\n",
              "      background-color: #E2EBFA;\n",
              "      box-shadow: 0px 1px 2px rgba(60, 64, 67, 0.3), 0px 1px 3px 1px rgba(60, 64, 67, 0.15);\n",
              "      fill: #174EA6;\n",
              "    }\n",
              "\n",
              "    .colab-df-buttons div {\n",
              "      margin-bottom: 4px;\n",
              "    }\n",
              "\n",
              "    [theme=dark] .colab-df-convert {\n",
              "      background-color: #3B4455;\n",
              "      fill: #D2E3FC;\n",
              "    }\n",
              "\n",
              "    [theme=dark] .colab-df-convert:hover {\n",
              "      background-color: #434B5C;\n",
              "      box-shadow: 0px 1px 3px 1px rgba(0, 0, 0, 0.15);\n",
              "      filter: drop-shadow(0px 1px 2px rgba(0, 0, 0, 0.3));\n",
              "      fill: #FFFFFF;\n",
              "    }\n",
              "  </style>\n",
              "\n",
              "    <script>\n",
              "      const buttonEl =\n",
              "        document.querySelector('#df-2aa7eb80-6cc0-4790-9d01-01460f19d73e button.colab-df-convert');\n",
              "      buttonEl.style.display =\n",
              "        google.colab.kernel.accessAllowed ? 'block' : 'none';\n",
              "\n",
              "      async function convertToInteractive(key) {\n",
              "        const element = document.querySelector('#df-2aa7eb80-6cc0-4790-9d01-01460f19d73e');\n",
              "        const dataTable =\n",
              "          await google.colab.kernel.invokeFunction('convertToInteractive',\n",
              "                                                    [key], {});\n",
              "        if (!dataTable) return;\n",
              "\n",
              "        const docLinkHtml = 'Like what you see? Visit the ' +\n",
              "          '<a target=\"_blank\" href=https://colab.research.google.com/notebooks/data_table.ipynb>data table notebook</a>'\n",
              "          + ' to learn more about interactive tables.';\n",
              "        element.innerHTML = '';\n",
              "        dataTable['output_type'] = 'display_data';\n",
              "        await google.colab.output.renderOutput(dataTable, element);\n",
              "        const docLink = document.createElement('div');\n",
              "        docLink.innerHTML = docLinkHtml;\n",
              "        element.appendChild(docLink);\n",
              "      }\n",
              "    </script>\n",
              "  </div>\n",
              "\n",
              "\n",
              "<div id=\"df-0dd40912-bbe1-4f7c-94ce-b7c72b02c61d\">\n",
              "  <button class=\"colab-df-quickchart\" onclick=\"quickchart('df-0dd40912-bbe1-4f7c-94ce-b7c72b02c61d')\"\n",
              "            title=\"Suggest charts\"\n",
              "            style=\"display:none;\">\n",
              "\n",
              "<svg xmlns=\"http://www.w3.org/2000/svg\" height=\"24px\"viewBox=\"0 0 24 24\"\n",
              "     width=\"24px\">\n",
              "    <g>\n",
              "        <path d=\"M19 3H5c-1.1 0-2 .9-2 2v14c0 1.1.9 2 2 2h14c1.1 0 2-.9 2-2V5c0-1.1-.9-2-2-2zM9 17H7v-7h2v7zm4 0h-2V7h2v10zm4 0h-2v-4h2v4z\"/>\n",
              "    </g>\n",
              "</svg>\n",
              "  </button>\n",
              "\n",
              "<style>\n",
              "  .colab-df-quickchart {\n",
              "      --bg-color: #E8F0FE;\n",
              "      --fill-color: #1967D2;\n",
              "      --hover-bg-color: #E2EBFA;\n",
              "      --hover-fill-color: #174EA6;\n",
              "      --disabled-fill-color: #AAA;\n",
              "      --disabled-bg-color: #DDD;\n",
              "  }\n",
              "\n",
              "  [theme=dark] .colab-df-quickchart {\n",
              "      --bg-color: #3B4455;\n",
              "      --fill-color: #D2E3FC;\n",
              "      --hover-bg-color: #434B5C;\n",
              "      --hover-fill-color: #FFFFFF;\n",
              "      --disabled-bg-color: #3B4455;\n",
              "      --disabled-fill-color: #666;\n",
              "  }\n",
              "\n",
              "  .colab-df-quickchart {\n",
              "    background-color: var(--bg-color);\n",
              "    border: none;\n",
              "    border-radius: 50%;\n",
              "    cursor: pointer;\n",
              "    display: none;\n",
              "    fill: var(--fill-color);\n",
              "    height: 32px;\n",
              "    padding: 0;\n",
              "    width: 32px;\n",
              "  }\n",
              "\n",
              "  .colab-df-quickchart:hover {\n",
              "    background-color: var(--hover-bg-color);\n",
              "    box-shadow: 0 1px 2px rgba(60, 64, 67, 0.3), 0 1px 3px 1px rgba(60, 64, 67, 0.15);\n",
              "    fill: var(--button-hover-fill-color);\n",
              "  }\n",
              "\n",
              "  .colab-df-quickchart-complete:disabled,\n",
              "  .colab-df-quickchart-complete:disabled:hover {\n",
              "    background-color: var(--disabled-bg-color);\n",
              "    fill: var(--disabled-fill-color);\n",
              "    box-shadow: none;\n",
              "  }\n",
              "\n",
              "  .colab-df-spinner {\n",
              "    border: 2px solid var(--fill-color);\n",
              "    border-color: transparent;\n",
              "    border-bottom-color: var(--fill-color);\n",
              "    animation:\n",
              "      spin 1s steps(1) infinite;\n",
              "  }\n",
              "\n",
              "  @keyframes spin {\n",
              "    0% {\n",
              "      border-color: transparent;\n",
              "      border-bottom-color: var(--fill-color);\n",
              "      border-left-color: var(--fill-color);\n",
              "    }\n",
              "    20% {\n",
              "      border-color: transparent;\n",
              "      border-left-color: var(--fill-color);\n",
              "      border-top-color: var(--fill-color);\n",
              "    }\n",
              "    30% {\n",
              "      border-color: transparent;\n",
              "      border-left-color: var(--fill-color);\n",
              "      border-top-color: var(--fill-color);\n",
              "      border-right-color: var(--fill-color);\n",
              "    }\n",
              "    40% {\n",
              "      border-color: transparent;\n",
              "      border-right-color: var(--fill-color);\n",
              "      border-top-color: var(--fill-color);\n",
              "    }\n",
              "    60% {\n",
              "      border-color: transparent;\n",
              "      border-right-color: var(--fill-color);\n",
              "    }\n",
              "    80% {\n",
              "      border-color: transparent;\n",
              "      border-right-color: var(--fill-color);\n",
              "      border-bottom-color: var(--fill-color);\n",
              "    }\n",
              "    90% {\n",
              "      border-color: transparent;\n",
              "      border-bottom-color: var(--fill-color);\n",
              "    }\n",
              "  }\n",
              "</style>\n",
              "\n",
              "  <script>\n",
              "    async function quickchart(key) {\n",
              "      const quickchartButtonEl =\n",
              "        document.querySelector('#' + key + ' button');\n",
              "      quickchartButtonEl.disabled = true;  // To prevent multiple clicks.\n",
              "      quickchartButtonEl.classList.add('colab-df-spinner');\n",
              "      try {\n",
              "        const charts = await google.colab.kernel.invokeFunction(\n",
              "            'suggestCharts', [key], {});\n",
              "      } catch (error) {\n",
              "        console.error('Error during call to suggestCharts:', error);\n",
              "      }\n",
              "      quickchartButtonEl.classList.remove('colab-df-spinner');\n",
              "      quickchartButtonEl.classList.add('colab-df-quickchart-complete');\n",
              "    }\n",
              "    (() => {\n",
              "      let quickchartButtonEl =\n",
              "        document.querySelector('#df-0dd40912-bbe1-4f7c-94ce-b7c72b02c61d button');\n",
              "      quickchartButtonEl.style.display =\n",
              "        google.colab.kernel.accessAllowed ? 'block' : 'none';\n",
              "    })();\n",
              "  </script>\n",
              "</div>\n",
              "\n",
              "    </div>\n",
              "  </div>\n"
            ],
            "application/vnd.google.colaboratory.intrinsic+json": {
              "type": "dataframe",
              "variable_name": "loja",
              "summary": "{\n  \"name\": \"loja\",\n  \"rows\": 2359,\n  \"fields\": [\n    {\n      \"column\": \"Produto\",\n      \"properties\": {\n        \"dtype\": \"category\",\n        \"num_unique_values\": 51,\n        \"samples\": [\n          \"Viol\\u00e3o\",\n          \"Bola de basquete\",\n          \"Smartwatch\"\n        ],\n        \"semantic_type\": \"\",\n        \"description\": \"\"\n      }\n    },\n    {\n      \"column\": \"Categoria do Produto\",\n      \"properties\": {\n        \"dtype\": \"category\",\n        \"num_unique_values\": 8,\n        \"samples\": [\n          \"moveis\",\n          \"esporte e lazer\",\n          \"eletronicos\"\n        ],\n        \"semantic_type\": \"\",\n        \"description\": \"\"\n      }\n    },\n    {\n      \"column\": \"Pre\\u00e7o\",\n      \"properties\": {\n        \"dtype\": \"number\",\n        \"std\": 819.5827782539145,\n        \"min\": 10.07,\n        \"max\": 3969.38,\n        \"num_unique_values\": 2315,\n        \"samples\": [\n          446.11,\n          107.31,\n          65.86\n        ],\n        \"semantic_type\": \"\",\n        \"description\": \"\"\n      }\n    },\n    {\n      \"column\": \"Frete\",\n      \"properties\": {\n        \"dtype\": \"number\",\n        \"std\": 43.814183327408166,\n        \"min\": 0.0,\n        \"max\": 214.3770604781,\n        \"num_unique_values\": 2149,\n        \"samples\": [\n          83.815279607,\n          16.069664669,\n          14.0344876928\n        ],\n        \"semantic_type\": \"\",\n        \"description\": \"\"\n      }\n    },\n    {\n      \"column\": \"Data da Compra\",\n      \"properties\": {\n        \"dtype\": \"object\",\n        \"num_unique_values\": 1018,\n        \"samples\": [\n          \"15/09/2022\",\n          \"03/06/2020\",\n          \"06/11/2021\"\n        ],\n        \"semantic_type\": \"\",\n        \"description\": \"\"\n      }\n    },\n    {\n      \"column\": \"Vendedor\",\n      \"properties\": {\n        \"dtype\": \"category\",\n        \"num_unique_values\": 14,\n        \"samples\": [\n          \"Juliana Costa\",\n          \"Mariana Ferreira\",\n          \"Pedro Gomes\"\n        ],\n        \"semantic_type\": \"\",\n        \"description\": \"\"\n      }\n    },\n    {\n      \"column\": \"Local da compra\",\n      \"properties\": {\n        \"dtype\": \"category\",\n        \"num_unique_values\": 26,\n        \"samples\": [\n          \"TO\",\n          \"RN\",\n          \"SP\"\n        ],\n        \"semantic_type\": \"\",\n        \"description\": \"\"\n      }\n    },\n    {\n      \"column\": \"Avalia\\u00e7\\u00e3o da compra\",\n      \"properties\": {\n        \"dtype\": \"number\",\n        \"std\": 1,\n        \"min\": 1,\n        \"max\": 5,\n        \"num_unique_values\": 5,\n        \"samples\": [\n          1,\n          2,\n          5\n        ],\n        \"semantic_type\": \"\",\n        \"description\": \"\"\n      }\n    },\n    {\n      \"column\": \"Tipo de pagamento\",\n      \"properties\": {\n        \"dtype\": \"category\",\n        \"num_unique_values\": 4,\n        \"samples\": [\n          \"boleto\",\n          \"cartao_debito\",\n          \"cartao_credito\"\n        ],\n        \"semantic_type\": \"\",\n        \"description\": \"\"\n      }\n    },\n    {\n      \"column\": \"Quantidade de parcelas\",\n      \"properties\": {\n        \"dtype\": \"number\",\n        \"std\": 2,\n        \"min\": 1,\n        \"max\": 24,\n        \"num_unique_values\": 15,\n        \"samples\": [\n          7,\n          14,\n          8\n        ],\n        \"semantic_type\": \"\",\n        \"description\": \"\"\n      }\n    },\n    {\n      \"column\": \"lat\",\n      \"properties\": {\n        \"dtype\": \"number\",\n        \"std\": 5.372399916530833,\n        \"min\": -30.17,\n        \"max\": 1.41,\n        \"num_unique_values\": 26,\n        \"samples\": [\n          -9.46,\n          -5.81,\n          -22.19\n        ],\n        \"semantic_type\": \"\",\n        \"description\": \"\"\n      }\n    },\n    {\n      \"column\": \"lon\",\n      \"properties\": {\n        \"dtype\": \"number\",\n        \"std\": 4.183180020544179,\n        \"min\": -70.55,\n        \"max\": -36.59,\n        \"num_unique_values\": 26,\n        \"samples\": [\n          -48.26,\n          -36.59,\n          -48.79\n        ],\n        \"semantic_type\": \"\",\n        \"description\": \"\"\n      }\n    }\n  ]\n}"
            }
          },
          "metadata": {},
          "execution_count": 1
        }
      ],
      "source": [
        "import pandas as pd\n",
        "\n",
        "url = \"https://raw.githubusercontent.com/alura-es-cursos/challenge1-data-science/refs/heads/main/base-de-dados-challenge-1/loja_1.csv\"\n",
        "url2 = \"https://raw.githubusercontent.com/alura-es-cursos/challenge1-data-science/refs/heads/main/base-de-dados-challenge-1/loja_2.csv\"\n",
        "url3 = \"https://raw.githubusercontent.com/alura-es-cursos/challenge1-data-science/refs/heads/main/base-de-dados-challenge-1/loja_3.csv\"\n",
        "url4 = \"https://raw.githubusercontent.com/alura-es-cursos/challenge1-data-science/refs/heads/main/base-de-dados-challenge-1/loja_4.csv\"\n",
        "\n",
        "loja = pd.read_csv(url)\n",
        "loja2 = pd.read_csv(url2)\n",
        "loja3 = pd.read_csv(url3)\n",
        "loja4 = pd.read_csv(url4)\n",
        "\n",
        "loja.head()"
      ]
    },
    {
      "cell_type": "markdown",
      "source": [
        "#1. Análise do faturamento\n"
      ],
      "metadata": {
        "id": "X62IW3KFUIYm"
      }
    },
    {
      "cell_type": "code",
      "source": [
        "import pandas as pd\n",
        "\n",
        "\n",
        "\n",
        "# Soma os valores da coluna 'Preço' (substitua pelo nome correto da coluna, caso seja diferente)\n",
        "soma_dos_precos1 = loja[\"Preço\"].sum()\n",
        "soma_dos_precos2 = loja2[\"Preço\"].sum()\n",
        "soma_dos_precos3 = loja3[\"Preço\"].sum()\n",
        "soma_dos_precos4 = loja4[\"Preço\"].sum()\n",
        "\n",
        "# Exibe o valor total da soma dos preços\n",
        "print(f'O valor total do faturamento na Loja 1 é: {soma_dos_precos1}')\n",
        "print(f'O valor total do faturamento na Loja 2 é: {soma_dos_precos2}')\n",
        "print(f'O valor total do faturamento na Loja 3 é: {soma_dos_precos3}')\n",
        "print(f'O valor total do faturamento na Loja 4 é: {soma_dos_precos4}')"
      ],
      "metadata": {
        "id": "xykobSftV64I",
        "colab": {
          "base_uri": "https://localhost:8080/"
        },
        "outputId": "163c96c4-a1b6-4d8f-a37e-7599912d8e7e"
      },
      "execution_count": 2,
      "outputs": [
        {
          "output_type": "stream",
          "name": "stdout",
          "text": [
            "O valor total do faturamento na Loja 1 é: 1534509.12\n",
            "O valor total do faturamento na Loja 2 é: 1488459.06\n",
            "O valor total do faturamento na Loja 3 é: 1464025.03\n",
            "O valor total do faturamento na Loja 4 é: 1384497.58\n"
          ]
        }
      ]
    },
    {
      "cell_type": "code",
      "source": [],
      "metadata": {
        "id": "KDyr8E71V3m-"
      },
      "execution_count": 2,
      "outputs": []
    },
    {
      "cell_type": "markdown",
      "source": [
        "# 2. Vendas por Categoria\n"
      ],
      "metadata": {
        "id": "2V_vcAPzWZmR"
      }
    },
    {
      "cell_type": "code",
      "source": [
        "import pandas as pd\n",
        "\n",
        "# Carregar os dados das lojas (aqui você carregaria os dados separados para cada loja)\n",
        "loja = pd.read_csv(url)\n",
        "loja2 = pd.read_csv(url2)\n",
        "loja3 = pd.read_csv(url3)\n",
        "loja4 = pd.read_csv(url4)\n",
        "\n",
        "# Agrupar os dados de cada loja por 'Local da compra' (loja) e 'Categoria do Produto' e contar o número de vendas\n",
        "vendas_loja1 = loja.groupby(['Categoria do Produto']).size()\n",
        "vendas_loja2 = loja2.groupby(['Categoria do Produto']).size()\n",
        "vendas_loja3 = loja3.groupby(['Categoria do Produto']).size()\n",
        "vendas_loja4 = loja4.groupby(['Categoria do Produto']).size()\n",
        "\n",
        "# Exibe os resultados para cada loja\n",
        "print(\"Quantidade de produtos vendidos por categoria na Loja 1:\")\n",
        "print(vendas_loja1)\n",
        "\n",
        "print(\"\\nQuantidade de produtos vendidos por categoria na Loja 2:\")\n",
        "print(vendas_loja2)\n",
        "\n",
        "print(\"\\nQuantidade de produtos vendidos por categoria na Loja 3:\")\n",
        "print(vendas_loja3)\n",
        "\n",
        "print(\"\\nQuantidade de produtos vendidos por categoria na Loja 4:\")\n",
        "print(vendas_loja4)\n",
        "\n",
        "\n"
      ],
      "metadata": {
        "id": "A34YupIuYhfF",
        "colab": {
          "base_uri": "https://localhost:8080/"
        },
        "outputId": "bf4f3ab7-48bb-484b-d2c8-a5715fe4b2c2"
      },
      "execution_count": 3,
      "outputs": [
        {
          "output_type": "stream",
          "name": "stdout",
          "text": [
            "Quantidade de produtos vendidos por categoria na Loja 1:\n",
            "Categoria do Produto\n",
            "brinquedos               324\n",
            "eletrodomesticos         312\n",
            "eletronicos              448\n",
            "esporte e lazer          284\n",
            "instrumentos musicais    182\n",
            "livros                   173\n",
            "moveis                   465\n",
            "utilidades domesticas    171\n",
            "dtype: int64\n",
            "\n",
            "Quantidade de produtos vendidos por categoria na Loja 2:\n",
            "Categoria do Produto\n",
            "brinquedos               313\n",
            "eletrodomesticos         305\n",
            "eletronicos              422\n",
            "esporte e lazer          275\n",
            "instrumentos musicais    224\n",
            "livros                   197\n",
            "moveis                   442\n",
            "utilidades domesticas    181\n",
            "dtype: int64\n",
            "\n",
            "Quantidade de produtos vendidos por categoria na Loja 3:\n",
            "Categoria do Produto\n",
            "brinquedos               315\n",
            "eletrodomesticos         278\n",
            "eletronicos              451\n",
            "esporte e lazer          277\n",
            "instrumentos musicais    177\n",
            "livros                   185\n",
            "moveis                   499\n",
            "utilidades domesticas    177\n",
            "dtype: int64\n",
            "\n",
            "Quantidade de produtos vendidos por categoria na Loja 4:\n",
            "Categoria do Produto\n",
            "brinquedos               338\n",
            "eletrodomesticos         254\n",
            "eletronicos              451\n",
            "esporte e lazer          277\n",
            "instrumentos musicais    170\n",
            "livros                   187\n",
            "moveis                   480\n",
            "utilidades domesticas    201\n",
            "dtype: int64\n"
          ]
        }
      ]
    },
    {
      "cell_type": "code",
      "source": [],
      "metadata": {
        "id": "yZR6cOjXYSk1"
      },
      "execution_count": 3,
      "outputs": []
    },
    {
      "cell_type": "markdown",
      "source": [
        "# 3. Média de Avaliação das Lojas"
      ],
      "metadata": {
        "id": "Rq6tU_xSY3jk"
      }
    },
    {
      "cell_type": "code",
      "source": [
        "import pandas as pd\n",
        "\n",
        "# Carregar os dados das lojas e adicionar a coluna 'Loja' identificando a loja de cada DataFrame\n",
        "loja = pd.read_csv(url)\n",
        "loja['Loja'] = 'Loja 1'\n",
        "loja2 = pd.read_csv(url2)\n",
        "loja2['Loja'] = 'Loja 2'\n",
        "loja3 = pd.read_csv(url3)\n",
        "loja3['Loja'] = 'Loja 3'\n",
        "loja4 = pd.read_csv(url4)\n",
        "loja4['Loja'] = 'Loja 4'\n",
        "\n",
        "# Concatenar os dados das lojas em um único DataFrame\n",
        "df = pd.concat([loja, loja2, loja3, loja4], ignore_index=True)\n",
        "\n",
        "# Calcular a média das avaliações por loja\n",
        "media_avaliacoes_por_loja = df.groupby('Loja')['Avaliação da compra'].mean()\n",
        "\n",
        "# Exibir o resultado\n",
        "print(media_avaliacoes_por_loja)\n",
        "\n",
        "\n",
        "\n"
      ],
      "metadata": {
        "id": "bh3jjjJwY5MU",
        "colab": {
          "base_uri": "https://localhost:8080/"
        },
        "outputId": "e65aa80f-defc-4c9d-9fdc-74bc574e5b7b"
      },
      "execution_count": 20,
      "outputs": [
        {
          "output_type": "stream",
          "name": "stdout",
          "text": [
            "Loja\n",
            "Loja 1    3.976685\n",
            "Loja 2    4.037304\n",
            "Loja 3    4.048326\n",
            "Loja 4    3.995759\n",
            "Name: Avaliação da compra, dtype: float64\n"
          ]
        }
      ]
    },
    {
      "cell_type": "code",
      "source": [],
      "metadata": {
        "id": "I0KkjPoTY88F"
      },
      "execution_count": null,
      "outputs": []
    },
    {
      "cell_type": "markdown",
      "source": [
        "# 4. Produtos Mais e Menos Vendidos"
      ],
      "metadata": {
        "id": "DmNp1KPBZCm-"
      }
    },
    {
      "cell_type": "code",
      "source": [
        "import pandas as pd\n",
        "\n",
        "\n",
        "loja = pd.read_csv(url)\n",
        "loja['Loja'] = 'Loja 1'\n",
        "loja2 = pd.read_csv(url2)\n",
        "loja2['Loja'] = 'Loja 2'\n",
        "loja3 = pd.read_csv(url3)\n",
        "loja3['Loja'] = 'Loja 3'\n",
        "loja4 = pd.read_csv(url4)\n",
        "loja4['Loja'] = 'Loja 4'\n",
        "\n",
        "\n",
        "df = pd.concat([loja, loja2, loja3, loja4], ignore_index=True)\n",
        "\n",
        "\n",
        "df['Quantidade'] = df['Quantidade de parcelas']\n",
        "\n",
        "# Identificar os produtos mais e menos vendidos por loja\n",
        "produtos_vendidos = df.groupby(['Loja', 'Produto'])['Quantidade'].sum().reset_index()\n",
        "\n",
        "# Ordenar os produtos por loja e quantidade vendida, de forma decrescente\n",
        "produtos_vendidos_sorted = produtos_vendidos.sort_values(['Loja', 'Quantidade'], ascending=[True, False])\n",
        "\n",
        "# Visualizar os resultados\n",
        "for loja_nome, loja_data in produtos_vendidos_sorted.groupby('Loja'):\n",
        "    print(f\"\\n**{loja_nome}:**\")\n",
        "\n",
        "    # Produto mais vendido\n",
        "    produto_mais_vendido = loja_data.head(1)\n",
        "    print(f\"Produto mais vendido: {produto_mais_vendido.iloc[0]['Produto']} com {produto_mais_vendido.iloc[0]['Quantidade']} unidades vendidas\")\n",
        "\n",
        "    # Produto menos vendido\n",
        "    produto_menos_vendido = loja_data.tail(1)\n",
        "    print(f\"Produto menos vendido: {produto_menos_vendido.iloc[0]['Produto']} com {produto_menos_vendido.iloc[0]['Quantidade']} unidades vendidas\")\n",
        "\n"
      ],
      "metadata": {
        "id": "qoyjqijQZHfF",
        "colab": {
          "base_uri": "https://localhost:8080/"
        },
        "outputId": "ffb7ea85-d43c-4012-ce81-8ac0b33d65d7"
      },
      "execution_count": 26,
      "outputs": [
        {
          "output_type": "stream",
          "name": "stdout",
          "text": [
            "\n",
            "**Loja 1:**\n",
            "Produto mais vendido: Secadora de roupas com 214 unidades vendidas\n",
            "Produto menos vendido: Celular ABXY com 78 unidades vendidas\n",
            "\n",
            "**Loja 2:**\n",
            "Produto mais vendido: Iniciando em programação com 223 unidades vendidas\n",
            "Produto menos vendido: Mesa de jantar com 89 unidades vendidas\n",
            "\n",
            "**Loja 3:**\n",
            "Produto mais vendido: Bicicleta com 191 unidades vendidas\n",
            "Produto menos vendido: TV Led UHD 4K com 94 unidades vendidas\n",
            "\n",
            "**Loja 4:**\n",
            "Produto mais vendido: Dashboards com Power BI com 196 unidades vendidas\n",
            "Produto menos vendido: Guarda roupas com 88 unidades vendidas\n"
          ]
        }
      ]
    },
    {
      "cell_type": "code",
      "source": [],
      "metadata": {
        "id": "0Sw3sd4IZIGW"
      },
      "execution_count": null,
      "outputs": []
    },
    {
      "cell_type": "markdown",
      "source": [
        "# 5. Frete Médio por Loja\n"
      ],
      "metadata": {
        "id": "Fl0cGi3bZKqU"
      }
    },
    {
      "cell_type": "code",
      "source": [
        "import pandas as pd\n",
        "\n",
        "\n",
        "loja = pd.read_csv(url)\n",
        "loja['Loja'] = 'Loja 1'\n",
        "loja2 = pd.read_csv(url2)\n",
        "loja2['Loja'] = 'Loja 2'\n",
        "loja3 = pd.read_csv(url3)\n",
        "loja3['Loja'] = 'Loja 3'\n",
        "loja4 = pd.read_csv(url4)\n",
        "loja4['Loja'] = 'Loja 4'\n",
        "\n",
        "# Concatenar os dados das lojas em um único DataFrame\n",
        "df = pd.concat([loja, loja2, loja3, loja4], ignore_index=True)\n",
        "\n",
        "# Calcular o custo médio de frete por loja\n",
        "custo_medio_frete = df.groupby('Loja')['Frete'].mean().reset_index()\n",
        "\n",
        "# Exibir o resultado\n",
        "print(custo_medio_frete)\n"
      ],
      "metadata": {
        "id": "S2JeaCykZNy9",
        "colab": {
          "base_uri": "https://localhost:8080/"
        },
        "outputId": "03443bfa-a1b5-47fd-f033-a023d347ddfb"
      },
      "execution_count": 30,
      "outputs": [
        {
          "output_type": "stream",
          "name": "stdout",
          "text": [
            "     Loja      Frete\n",
            "0  Loja 1  34.691805\n",
            "1  Loja 2  33.621941\n",
            "2  Loja 3  33.074464\n",
            "3  Loja 4  31.278997\n"
          ]
        }
      ]
    },
    {
      "cell_type": "code",
      "source": [
        "pip install matplotlib"
      ],
      "metadata": {
        "id": "0tSdCie9ZQlt",
        "colab": {
          "base_uri": "https://localhost:8080/"
        },
        "outputId": "9ff60d65-0c1c-4827-fd10-4eb6b8eb263e"
      },
      "execution_count": 31,
      "outputs": [
        {
          "output_type": "stream",
          "name": "stdout",
          "text": [
            "Requirement already satisfied: matplotlib in /usr/local/lib/python3.11/dist-packages (3.10.0)\n",
            "Requirement already satisfied: contourpy>=1.0.1 in /usr/local/lib/python3.11/dist-packages (from matplotlib) (1.3.1)\n",
            "Requirement already satisfied: cycler>=0.10 in /usr/local/lib/python3.11/dist-packages (from matplotlib) (0.12.1)\n",
            "Requirement already satisfied: fonttools>=4.22.0 in /usr/local/lib/python3.11/dist-packages (from matplotlib) (4.57.0)\n",
            "Requirement already satisfied: kiwisolver>=1.3.1 in /usr/local/lib/python3.11/dist-packages (from matplotlib) (1.4.8)\n",
            "Requirement already satisfied: numpy>=1.23 in /usr/local/lib/python3.11/dist-packages (from matplotlib) (2.0.2)\n",
            "Requirement already satisfied: packaging>=20.0 in /usr/local/lib/python3.11/dist-packages (from matplotlib) (24.2)\n",
            "Requirement already satisfied: pillow>=8 in /usr/local/lib/python3.11/dist-packages (from matplotlib) (11.1.0)\n",
            "Requirement already satisfied: pyparsing>=2.3.1 in /usr/local/lib/python3.11/dist-packages (from matplotlib) (3.2.3)\n",
            "Requirement already satisfied: python-dateutil>=2.7 in /usr/local/lib/python3.11/dist-packages (from matplotlib) (2.8.2)\n",
            "Requirement already satisfied: six>=1.5 in /usr/local/lib/python3.11/dist-packages (from python-dateutil>=2.7->matplotlib) (1.17.0)\n"
          ]
        }
      ]
    },
    {
      "cell_type": "code",
      "source": [
        "import matplotlib.pyplot as plt\n",
        "import pandas as pd\n",
        "\n",
        "# Dados de frete por loja\n",
        "frete_por_loja = {\n",
        "    'Loja': ['Loja 1', 'Loja 2', 'Loja 3', 'Loja 4'],\n",
        "    'Frete': [34.691805, 33.621941, 33.074464, 31.278997]\n",
        "}\n",
        "\n",
        "# Criar o DataFrame\n",
        "df_frete = pd.DataFrame(frete_por_loja)\n",
        "\n",
        "# Criar o gráfico de barras para o frete por loja\n",
        "plt.figure(figsize=(10, 6))  # Tamanho da figura\n",
        "bars = plt.bar(df_frete['Loja'], df_frete['Frete'], color='skyblue')\n",
        "\n",
        "# Adicionar título e rótulos aos eixos\n",
        "plt.title('Custo de Frete Total por Loja', fontsize=16)\n",
        "plt.xlabel('Loja', fontsize=12)\n",
        "plt.ylabel('Custo de Frete (R$)', fontsize=12)\n",
        "\n",
        "# Adicionar os valores de frete acima de cada barra\n",
        "for bar in bars:\n",
        "    yval = bar.get_height()  # Pega a altura da barra (o valor do frete)\n",
        "    plt.text(bar.get_x() + bar.get_width() / 2, yval + 0.2, f'R${yval:,.2f}', ha='center', va='bottom', fontsize=12)\n",
        "\n",
        "# Exibir o gráfico\n",
        "plt.show()\n",
        "\n",
        "\n"
      ],
      "metadata": {
        "colab": {
          "base_uri": "https://localhost:8080/",
          "height": 570
        },
        "id": "8fdpV6O1bthy",
        "outputId": "4eea9f8c-714c-48e6-9612-5d39f2c0556b"
      },
      "execution_count": 40,
      "outputs": [
        {
          "output_type": "display_data",
          "data": {
            "text/plain": [
              "<Figure size 1000x600 with 1 Axes>"
            ],
            "image/png": "[encoded data removed]"
          },
          "metadata": {}
        }
      ]
    },
    {
      "cell_type": "code",
      "source": [
        "import matplotlib.pyplot as plt\n",
        "import pandas as pd\n",
        "\n",
        "# Exemplo de dados de faturamento por loja (valores fornecidos)\n",
        "faturamento_por_loja = {\n",
        "    'Loja': ['Loja 1', 'Loja 2', 'Loja 3', 'Loja 4'],\n",
        "    'Faturamento': [1534509.12, 1488459.06, 1464025.03, 1384497.58]\n",
        "}\n",
        "\n",
        "# Criar o DataFrame\n",
        "df_faturamento = pd.DataFrame(faturamento_por_loja)\n",
        "\n",
        "# Criar o gráfico de barras para o faturamento por loja\n",
        "plt.figure(figsize=(10, 6))  # Tamanho da figura\n",
        "bars = plt.bar(df_faturamento['Loja'], df_faturamento['Faturamento'], color='skyblue')\n",
        "\n",
        "# Adicionar título e rótulos aos eixos\n",
        "plt.title('Faturamento Total por Loja', fontsize=16)\n",
        "plt.xlabel('Loja', fontsize=12)\n",
        "plt.ylabel('Faturamento (R$)', fontsize=12)\n",
        "\n",
        "# Adicionar os valores de faturamento acima de cada barra\n",
        "for bar in bars:\n",
        "    yval = bar.get_height()  # Pega a altura da barra (o valor de faturamento)\n",
        "    plt.text(bar.get_x() + bar.get_width() / 2, yval + 50000, f'R${yval:,.2f}', ha='center', va='bottom', fontsize=12)\n",
        "\n",
        "# Exibir o gráfico\n",
        "plt.show()\n",
        "\n",
        "\n"
      ],
      "metadata": {
        "colab": {
          "base_uri": "https://localhost:8080/",
          "height": 570
        },
        "id": "vo95J2gcd7Za",
        "outputId": "66b4f4c1-7c12-4180-e302-57291a55fa77"
      },
      "execution_count": 39,
      "outputs": [
        {
          "output_type": "display_data",
          "data": {
            "text/plain": [
              "<Figure size 1000x600 with 1 Axes>"
            ],
            "image/png": "[encoded data removed]"
          },
          "metadata": {}
        }
      ]
    },
    {
      "cell_type": "code",
      "source": [
        "import matplotlib.pyplot as plt\n",
        "import pandas as pd\n",
        "\n",
        "# Dados de média de avaliações por loja\n",
        "avaliacoes_por_loja = {\n",
        "    'Loja': ['Loja 1', 'Loja 2', 'Loja 3', 'Loja 4'],\n",
        "    'Média de Avaliações': [3.976685, 4.037304, 4.048326, 3.995759]\n",
        "}\n",
        "\n",
        "# Criar o DataFrame\n",
        "df_avaliacoes = pd.DataFrame(avaliacoes_por_loja)\n",
        "\n",
        "# Criar o gráfico de barras para a média de avaliações por loja\n",
        "plt.figure(figsize=(10, 6))  # Tamanho da figura\n",
        "bars = plt.bar(df_avaliacoes['Loja'], df_avaliacoes['Média de Avaliações'], color='skyblue')\n",
        "\n",
        "# Adicionar título e rótulos aos eixos\n",
        "plt.title('Média de Avaliações por Loja', fontsize=16)\n",
        "plt.xlabel('Loja', fontsize=12)\n",
        "plt.ylabel('Média de Avaliações', fontsize=12)\n",
        "\n",
        "# Adicionar os valores das médias de avaliações acima de cada barra\n",
        "for bar in bars:\n",
        "    yval = bar.get_height()  # Pega a altura da barra (o valor da média de avaliação)\n",
        "    plt.text(bar.get_x() + bar.get_width() / 2, yval + 0.02, f'{yval:.6f}', ha='center', va='bottom', fontsize=12)\n",
        "\n",
        "# Exibir o gráfico\n",
        "plt.show()\n",
        "\n"
      ],
      "metadata": {
        "colab": {
          "base_uri": "https://localhost:8080/",
          "height": 572
        },
        "id": "PRRThmw2eZJV",
        "outputId": "eda26805-a6db-4a9c-be97-9385baa995bd"
      },
      "execution_count": 41,
      "outputs": [
        {
          "output_type": "display_data",
          "data": {
            "text/plain": [
              "<Figure size 1000x600 with 1 Axes>"
            ],
            "image/png": "[encoded data removed]"
          },
          "metadata": {}
        }
      ]
    },
    {
      "cell_type": "markdown",
      "source": [
        "Relatório final\n",
        "\n",
        "O objetivo desse challenge, era de melhorasmos nosso conhecimento em Data science com Pyhton. E no final de tudo, apontar qual das lojas deveria ser fechada no final pelo Sr. João.\n",
        "\n",
        "Após uma avaliação cuidadosa em cada, loja, percebemos que as lojas 1, 2, 3 e 4, possuem os seguintes faturamentos:\n",
        "\n",
        "Loja 1: R$ 1.534.509,12\n",
        "\n",
        "Loja 2: R$ 1.488.459,06\n",
        "\n",
        "Loja 3: R$ 1.464.025,03\n",
        "\n",
        "Loja 4: R$ 1.384.497,58\n",
        "\n",
        "A média de avaliações por loja também foi um requisito primordial para essa analise:\n",
        "\n",
        "Loja 1: 3.98\n",
        "\n",
        "Loja 2: 4.04\n",
        "\n",
        "Loja 3: 4.05\n",
        "\n",
        "Loja 4: 3.99\n",
        "\n",
        "Outro fator importante, foi referente ao custo médio por frete:\n",
        "\n",
        "Loja 1: R$ 34.69\n",
        "\n",
        "Loja 2: R$ 33.62\n",
        "\n",
        "Loja 3: R$ 33.07\n",
        "\n",
        "Loja 4: R$ 31.28\n",
        "\n",
        "Com base todas essas analises e os gráficos vistos acima, foi constatado que a melhor loja a se fechar, é a loja 4, pois, apesar de terem um dos melhores fretes, possui um faturamente muito baixo comparados as demais, além da avaliação também ter sido uma das mais baixas pelos clientes.\n",
        "O Seu João, deve permanecer com as Lojas 1, 2 e 3. A loja 1 foi a que teve um melhor faturamento."
      ],
      "metadata": {
        "id": "8udf8j7pgfAa"
      }
    },
    {
      "cell_type": "code",
      "source": [],
      "metadata": {
        "id": "ASwnBgDdg7uL"
      },
      "execution_count": 41,
      "outputs": []
    }
  ]
}